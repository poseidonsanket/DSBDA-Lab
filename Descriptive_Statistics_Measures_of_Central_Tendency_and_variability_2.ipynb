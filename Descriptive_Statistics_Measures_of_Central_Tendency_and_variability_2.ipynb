{
  "nbformat": 4,
  "nbformat_minor": 0,
  "metadata": {
    "colab": {
      "provenance": [],
      "authorship_tag": "ABX9TyOU86wgv2JK1nL7Mwv1Jcuc",
      "include_colab_link": true
    },
    "kernelspec": {
      "name": "python3",
      "display_name": "Python 3"
    },
    "language_info": {
      "name": "python"
    }
  },
  "cells": [
    {
      "cell_type": "markdown",
      "metadata": {
        "id": "view-in-github",
        "colab_type": "text"
      },
      "source": [
        "<a href=\"https://colab.research.google.com/github/poseidonsanket/DSBDA-Lab/blob/main/Descriptive_Statistics_Measures_of_Central_Tendency_and_variability_2.ipynb\" target=\"_parent\"><img src=\"https://colab.research.google.com/assets/colab-badge.svg\" alt=\"Open In Colab\"/></a>"
      ]
    },
    {
      "cell_type": "code",
      "execution_count": 1,
      "metadata": {
        "id": "FjAQ4cOGQGLB"
      },
      "outputs": [],
      "source": [
        "import pandas as pd\n",
        "import numpy as np"
      ]
    },
    {
      "cell_type": "code",
      "source": [
        "!pip install -q kaggle"
      ],
      "metadata": {
        "id": "WANyDY-hQTPV"
      },
      "execution_count": 2,
      "outputs": []
    },
    {
      "cell_type": "code",
      "source": [
        "from google.colab import files\n",
        "files.upload()"
      ],
      "metadata": {
        "colab": {
          "base_uri": "https://localhost:8080/",
          "height": 611
        },
        "id": "RnJRE_WQQXF-",
        "outputId": "7e63480a-95b9-4c8d-c6a4-12aef03cdd29"
      },
      "execution_count": 3,
      "outputs": [
        {
          "output_type": "display_data",
          "data": {
            "text/plain": [
              "<IPython.core.display.HTML object>"
            ],
            "text/html": [
              "\n",
              "     <input type=\"file\" id=\"files-6379cc45-34a0-4534-9f2a-72d674b3fe6e\" name=\"files[]\" multiple disabled\n",
              "        style=\"border:none\" />\n",
              "     <output id=\"result-6379cc45-34a0-4534-9f2a-72d674b3fe6e\">\n",
              "      Upload widget is only available when the cell has been executed in the\n",
              "      current browser session. Please rerun this cell to enable.\n",
              "      </output>\n",
              "      <script>// Copyright 2017 Google LLC\n",
              "//\n",
              "// Licensed under the Apache License, Version 2.0 (the \"License\");\n",
              "// you may not use this file except in compliance with the License.\n",
              "// You may obtain a copy of the License at\n",
              "//\n",
              "//      http://www.apache.org/licenses/LICENSE-2.0\n",
              "//\n",
              "// Unless required by applicable law or agreed to in writing, software\n",
              "// distributed under the License is distributed on an \"AS IS\" BASIS,\n",
              "// WITHOUT WARRANTIES OR CONDITIONS OF ANY KIND, either express or implied.\n",
              "// See the License for the specific language governing permissions and\n",
              "// limitations under the License.\n",
              "\n",
              "/**\n",
              " * @fileoverview Helpers for google.colab Python module.\n",
              " */\n",
              "(function(scope) {\n",
              "function span(text, styleAttributes = {}) {\n",
              "  const element = document.createElement('span');\n",
              "  element.textContent = text;\n",
              "  for (const key of Object.keys(styleAttributes)) {\n",
              "    element.style[key] = styleAttributes[key];\n",
              "  }\n",
              "  return element;\n",
              "}\n",
              "\n",
              "// Max number of bytes which will be uploaded at a time.\n",
              "const MAX_PAYLOAD_SIZE = 100 * 1024;\n",
              "\n",
              "function _uploadFiles(inputId, outputId) {\n",
              "  const steps = uploadFilesStep(inputId, outputId);\n",
              "  const outputElement = document.getElementById(outputId);\n",
              "  // Cache steps on the outputElement to make it available for the next call\n",
              "  // to uploadFilesContinue from Python.\n",
              "  outputElement.steps = steps;\n",
              "\n",
              "  return _uploadFilesContinue(outputId);\n",
              "}\n",
              "\n",
              "// This is roughly an async generator (not supported in the browser yet),\n",
              "// where there are multiple asynchronous steps and the Python side is going\n",
              "// to poll for completion of each step.\n",
              "// This uses a Promise to block the python side on completion of each step,\n",
              "// then passes the result of the previous step as the input to the next step.\n",
              "function _uploadFilesContinue(outputId) {\n",
              "  const outputElement = document.getElementById(outputId);\n",
              "  const steps = outputElement.steps;\n",
              "\n",
              "  const next = steps.next(outputElement.lastPromiseValue);\n",
              "  return Promise.resolve(next.value.promise).then((value) => {\n",
              "    // Cache the last promise value to make it available to the next\n",
              "    // step of the generator.\n",
              "    outputElement.lastPromiseValue = value;\n",
              "    return next.value.response;\n",
              "  });\n",
              "}\n",
              "\n",
              "/**\n",
              " * Generator function which is called between each async step of the upload\n",
              " * process.\n",
              " * @param {string} inputId Element ID of the input file picker element.\n",
              " * @param {string} outputId Element ID of the output display.\n",
              " * @return {!Iterable<!Object>} Iterable of next steps.\n",
              " */\n",
              "function* uploadFilesStep(inputId, outputId) {\n",
              "  const inputElement = document.getElementById(inputId);\n",
              "  inputElement.disabled = false;\n",
              "\n",
              "  const outputElement = document.getElementById(outputId);\n",
              "  outputElement.innerHTML = '';\n",
              "\n",
              "  const pickedPromise = new Promise((resolve) => {\n",
              "    inputElement.addEventListener('change', (e) => {\n",
              "      resolve(e.target.files);\n",
              "    });\n",
              "  });\n",
              "\n",
              "  const cancel = document.createElement('button');\n",
              "  inputElement.parentElement.appendChild(cancel);\n",
              "  cancel.textContent = 'Cancel upload';\n",
              "  const cancelPromise = new Promise((resolve) => {\n",
              "    cancel.onclick = () => {\n",
              "      resolve(null);\n",
              "    };\n",
              "  });\n",
              "\n",
              "  // Wait for the user to pick the files.\n",
              "  const files = yield {\n",
              "    promise: Promise.race([pickedPromise, cancelPromise]),\n",
              "    response: {\n",
              "      action: 'starting',\n",
              "    }\n",
              "  };\n",
              "\n",
              "  cancel.remove();\n",
              "\n",
              "  // Disable the input element since further picks are not allowed.\n",
              "  inputElement.disabled = true;\n",
              "\n",
              "  if (!files) {\n",
              "    return {\n",
              "      response: {\n",
              "        action: 'complete',\n",
              "      }\n",
              "    };\n",
              "  }\n",
              "\n",
              "  for (const file of files) {\n",
              "    const li = document.createElement('li');\n",
              "    li.append(span(file.name, {fontWeight: 'bold'}));\n",
              "    li.append(span(\n",
              "        `(${file.type || 'n/a'}) - ${file.size} bytes, ` +\n",
              "        `last modified: ${\n",
              "            file.lastModifiedDate ? file.lastModifiedDate.toLocaleDateString() :\n",
              "                                    'n/a'} - `));\n",
              "    const percent = span('0% done');\n",
              "    li.appendChild(percent);\n",
              "\n",
              "    outputElement.appendChild(li);\n",
              "\n",
              "    const fileDataPromise = new Promise((resolve) => {\n",
              "      const reader = new FileReader();\n",
              "      reader.onload = (e) => {\n",
              "        resolve(e.target.result);\n",
              "      };\n",
              "      reader.readAsArrayBuffer(file);\n",
              "    });\n",
              "    // Wait for the data to be ready.\n",
              "    let fileData = yield {\n",
              "      promise: fileDataPromise,\n",
              "      response: {\n",
              "        action: 'continue',\n",
              "      }\n",
              "    };\n",
              "\n",
              "    // Use a chunked sending to avoid message size limits. See b/62115660.\n",
              "    let position = 0;\n",
              "    do {\n",
              "      const length = Math.min(fileData.byteLength - position, MAX_PAYLOAD_SIZE);\n",
              "      const chunk = new Uint8Array(fileData, position, length);\n",
              "      position += length;\n",
              "\n",
              "      const base64 = btoa(String.fromCharCode.apply(null, chunk));\n",
              "      yield {\n",
              "        response: {\n",
              "          action: 'append',\n",
              "          file: file.name,\n",
              "          data: base64,\n",
              "        },\n",
              "      };\n",
              "\n",
              "      let percentDone = fileData.byteLength === 0 ?\n",
              "          100 :\n",
              "          Math.round((position / fileData.byteLength) * 100);\n",
              "      percent.textContent = `${percentDone}% done`;\n",
              "\n",
              "    } while (position < fileData.byteLength);\n",
              "  }\n",
              "\n",
              "  // All done.\n",
              "  yield {\n",
              "    response: {\n",
              "      action: 'complete',\n",
              "    }\n",
              "  };\n",
              "}\n",
              "\n",
              "scope.google = scope.google || {};\n",
              "scope.google.colab = scope.google.colab || {};\n",
              "scope.google.colab._files = {\n",
              "  _uploadFiles,\n",
              "  _uploadFilesContinue,\n",
              "};\n",
              "})(self);\n",
              "</script> "
            ]
          },
          "metadata": {}
        },
        {
          "output_type": "stream",
          "name": "stdout",
          "text": [
            "Saving Iris.csv to Iris.csv\n"
          ]
        },
        {
          "output_type": "execute_result",
          "data": {
            "text/plain": [
              "{'Iris.csv': b'Id,SepalLengthCm,SepalWidthCm,PetalLengthCm,PetalWidthCm,Species\\n1,5.1,3.5,1.4,0.2,Iris-setosa\\n2,4.9,3.0,1.4,0.2,Iris-setosa\\n3,4.7,3.2,1.3,0.2,Iris-setosa\\n4,4.6,3.1,1.5,0.2,Iris-setosa\\n5,5.0,3.6,1.4,0.2,Iris-setosa\\n6,5.4,3.9,1.7,0.4,Iris-setosa\\n7,4.6,3.4,1.4,0.3,Iris-setosa\\n8,5.0,3.4,1.5,0.2,Iris-setosa\\n9,4.4,2.9,1.4,0.2,Iris-setosa\\n10,4.9,3.1,1.5,0.1,Iris-setosa\\n11,5.4,3.7,1.5,0.2,Iris-setosa\\n12,4.8,3.4,1.6,0.2,Iris-setosa\\n13,4.8,3.0,1.4,0.1,Iris-setosa\\n14,4.3,3.0,1.1,0.1,Iris-setosa\\n15,5.8,4.0,1.2,0.2,Iris-setosa\\n16,5.7,4.4,1.5,0.4,Iris-setosa\\n17,5.4,3.9,1.3,0.4,Iris-setosa\\n18,5.1,3.5,1.4,0.3,Iris-setosa\\n19,5.7,3.8,1.7,0.3,Iris-setosa\\n20,5.1,3.8,1.5,0.3,Iris-setosa\\n21,5.4,3.4,1.7,0.2,Iris-setosa\\n22,5.1,3.7,1.5,0.4,Iris-setosa\\n23,4.6,3.6,1.0,0.2,Iris-setosa\\n24,5.1,3.3,1.7,0.5,Iris-setosa\\n25,4.8,3.4,1.9,0.2,Iris-setosa\\n26,5.0,3.0,1.6,0.2,Iris-setosa\\n27,5.0,3.4,1.6,0.4,Iris-setosa\\n28,5.2,3.5,1.5,0.2,Iris-setosa\\n29,5.2,3.4,1.4,0.2,Iris-setosa\\n30,4.7,3.2,1.6,0.2,Iris-setosa\\n31,4.8,3.1,1.6,0.2,Iris-setosa\\n32,5.4,3.4,1.5,0.4,Iris-setosa\\n33,5.2,4.1,1.5,0.1,Iris-setosa\\n34,5.5,4.2,1.4,0.2,Iris-setosa\\n35,4.9,3.1,1.5,0.1,Iris-setosa\\n36,5.0,3.2,1.2,0.2,Iris-setosa\\n37,5.5,3.5,1.3,0.2,Iris-setosa\\n38,4.9,3.1,1.5,0.1,Iris-setosa\\n39,4.4,3.0,1.3,0.2,Iris-setosa\\n40,5.1,3.4,1.5,0.2,Iris-setosa\\n41,5.0,3.5,1.3,0.3,Iris-setosa\\n42,4.5,2.3,1.3,0.3,Iris-setosa\\n43,4.4,3.2,1.3,0.2,Iris-setosa\\n44,5.0,3.5,1.6,0.6,Iris-setosa\\n45,5.1,3.8,1.9,0.4,Iris-setosa\\n46,4.8,3.0,1.4,0.3,Iris-setosa\\n47,5.1,3.8,1.6,0.2,Iris-setosa\\n48,4.6,3.2,1.4,0.2,Iris-setosa\\n49,5.3,3.7,1.5,0.2,Iris-setosa\\n50,5.0,3.3,1.4,0.2,Iris-setosa\\n51,7.0,3.2,4.7,1.4,Iris-versicolor\\n52,6.4,3.2,4.5,1.5,Iris-versicolor\\n53,6.9,3.1,4.9,1.5,Iris-versicolor\\n54,5.5,2.3,4.0,1.3,Iris-versicolor\\n55,6.5,2.8,4.6,1.5,Iris-versicolor\\n56,5.7,2.8,4.5,1.3,Iris-versicolor\\n57,6.3,3.3,4.7,1.6,Iris-versicolor\\n58,4.9,2.4,3.3,1.0,Iris-versicolor\\n59,6.6,2.9,4.6,1.3,Iris-versicolor\\n60,5.2,2.7,3.9,1.4,Iris-versicolor\\n61,5.0,2.0,3.5,1.0,Iris-versicolor\\n62,5.9,3.0,4.2,1.5,Iris-versicolor\\n63,6.0,2.2,4.0,1.0,Iris-versicolor\\n64,6.1,2.9,4.7,1.4,Iris-versicolor\\n65,5.6,2.9,3.6,1.3,Iris-versicolor\\n66,6.7,3.1,4.4,1.4,Iris-versicolor\\n67,5.6,3.0,4.5,1.5,Iris-versicolor\\n68,5.8,2.7,4.1,1.0,Iris-versicolor\\n69,6.2,2.2,4.5,1.5,Iris-versicolor\\n70,5.6,2.5,3.9,1.1,Iris-versicolor\\n71,5.9,3.2,4.8,1.8,Iris-versicolor\\n72,6.1,2.8,4.0,1.3,Iris-versicolor\\n73,6.3,2.5,4.9,1.5,Iris-versicolor\\n74,6.1,2.8,4.7,1.2,Iris-versicolor\\n75,6.4,2.9,4.3,1.3,Iris-versicolor\\n76,6.6,3.0,4.4,1.4,Iris-versicolor\\n77,6.8,2.8,4.8,1.4,Iris-versicolor\\n78,6.7,3.0,5.0,1.7,Iris-versicolor\\n79,6.0,2.9,4.5,1.5,Iris-versicolor\\n80,5.7,2.6,3.5,1.0,Iris-versicolor\\n81,5.5,2.4,3.8,1.1,Iris-versicolor\\n82,5.5,2.4,3.7,1.0,Iris-versicolor\\n83,5.8,2.7,3.9,1.2,Iris-versicolor\\n84,6.0,2.7,5.1,1.6,Iris-versicolor\\n85,5.4,3.0,4.5,1.5,Iris-versicolor\\n86,6.0,3.4,4.5,1.6,Iris-versicolor\\n87,6.7,3.1,4.7,1.5,Iris-versicolor\\n88,6.3,2.3,4.4,1.3,Iris-versicolor\\n89,5.6,3.0,4.1,1.3,Iris-versicolor\\n90,5.5,2.5,4.0,1.3,Iris-versicolor\\n91,5.5,2.6,4.4,1.2,Iris-versicolor\\n92,6.1,3.0,4.6,1.4,Iris-versicolor\\n93,5.8,2.6,4.0,1.2,Iris-versicolor\\n94,5.0,2.3,3.3,1.0,Iris-versicolor\\n95,5.6,2.7,4.2,1.3,Iris-versicolor\\n96,5.7,3.0,4.2,1.2,Iris-versicolor\\n97,5.7,2.9,4.2,1.3,Iris-versicolor\\n98,6.2,2.9,4.3,1.3,Iris-versicolor\\n99,5.1,2.5,3.0,1.1,Iris-versicolor\\n100,5.7,2.8,4.1,1.3,Iris-versicolor\\n101,6.3,3.3,6.0,2.5,Iris-virginica\\n102,5.8,2.7,5.1,1.9,Iris-virginica\\n103,7.1,3.0,5.9,2.1,Iris-virginica\\n104,6.3,2.9,5.6,1.8,Iris-virginica\\n105,6.5,3.0,5.8,2.2,Iris-virginica\\n106,7.6,3.0,6.6,2.1,Iris-virginica\\n107,4.9,2.5,4.5,1.7,Iris-virginica\\n108,7.3,2.9,6.3,1.8,Iris-virginica\\n109,6.7,2.5,5.8,1.8,Iris-virginica\\n110,7.2,3.6,6.1,2.5,Iris-virginica\\n111,6.5,3.2,5.1,2.0,Iris-virginica\\n112,6.4,2.7,5.3,1.9,Iris-virginica\\n113,6.8,3.0,5.5,2.1,Iris-virginica\\n114,5.7,2.5,5.0,2.0,Iris-virginica\\n115,5.8,2.8,5.1,2.4,Iris-virginica\\n116,6.4,3.2,5.3,2.3,Iris-virginica\\n117,6.5,3.0,5.5,1.8,Iris-virginica\\n118,7.7,3.8,6.7,2.2,Iris-virginica\\n119,7.7,2.6,6.9,2.3,Iris-virginica\\n120,6.0,2.2,5.0,1.5,Iris-virginica\\n121,6.9,3.2,5.7,2.3,Iris-virginica\\n122,5.6,2.8,4.9,2.0,Iris-virginica\\n123,7.7,2.8,6.7,2.0,Iris-virginica\\n124,6.3,2.7,4.9,1.8,Iris-virginica\\n125,6.7,3.3,5.7,2.1,Iris-virginica\\n126,7.2,3.2,6.0,1.8,Iris-virginica\\n127,6.2,2.8,4.8,1.8,Iris-virginica\\n128,6.1,3.0,4.9,1.8,Iris-virginica\\n129,6.4,2.8,5.6,2.1,Iris-virginica\\n130,7.2,3.0,5.8,1.6,Iris-virginica\\n131,7.4,2.8,6.1,1.9,Iris-virginica\\n132,7.9,3.8,6.4,2.0,Iris-virginica\\n133,6.4,2.8,5.6,2.2,Iris-virginica\\n134,6.3,2.8,5.1,1.5,Iris-virginica\\n135,6.1,2.6,5.6,1.4,Iris-virginica\\n136,7.7,3.0,6.1,2.3,Iris-virginica\\n137,6.3,3.4,5.6,2.4,Iris-virginica\\n138,6.4,3.1,5.5,1.8,Iris-virginica\\n139,6.0,3.0,4.8,1.8,Iris-virginica\\n140,6.9,3.1,5.4,2.1,Iris-virginica\\n141,6.7,3.1,5.6,2.4,Iris-virginica\\n142,6.9,3.1,5.1,2.3,Iris-virginica\\n143,5.8,2.7,5.1,1.9,Iris-virginica\\n144,6.8,3.2,5.9,2.3,Iris-virginica\\n145,6.7,3.3,5.7,2.5,Iris-virginica\\n146,6.7,3.0,5.2,2.3,Iris-virginica\\n147,6.3,2.5,5.0,1.9,Iris-virginica\\n148,6.5,3.0,5.2,2.0,Iris-virginica\\n149,6.2,3.4,5.4,2.3,Iris-virginica\\n150,5.9,3.0,5.1,1.8,Iris-virginica\\n'}"
            ]
          },
          "metadata": {},
          "execution_count": 3
        }
      ]
    },
    {
      "cell_type": "code",
      "source": [
        "col_names = ['Sepal_Length','Sepal_Width','Petal_Length','Petal_Width','Species']"
      ],
      "metadata": {
        "id": "NlLy6RauRbuU"
      },
      "execution_count": 18,
      "outputs": []
    },
    {
      "cell_type": "code",
      "source": [
        "iris = pd.read_csv('https://archive.ics.uci.edu/ml/machine-learning-databases/iris/iris.data', names = col_names)"
      ],
      "metadata": {
        "id": "fXapz5GzRl0C"
      },
      "execution_count": 19,
      "outputs": []
    },
    {
      "cell_type": "code",
      "source": [
        "irisSet = (iris['Species']== 'Iris-setosa')"
      ],
      "metadata": {
        "id": "4cbGjrNoRx2N"
      },
      "execution_count": 20,
      "outputs": []
    },
    {
      "cell_type": "code",
      "source": [
        "print('Iris-setosa')\n",
        "print(iris[irisSet].describe())"
      ],
      "metadata": {
        "colab": {
          "base_uri": "https://localhost:8080/"
        },
        "id": "zJlQ_WdkR5aE",
        "outputId": "54ec4e43-66f3-4777-def9-1c95aa2bb285"
      },
      "execution_count": 21,
      "outputs": [
        {
          "output_type": "stream",
          "name": "stdout",
          "text": [
            "Iris-setosa\n",
            "       Sepal_Length  Sepal_Width  Petal_Length  Petal_Width\n",
            "count      50.00000    50.000000     50.000000     50.00000\n",
            "mean        5.00600     3.418000      1.464000      0.24400\n",
            "std         0.35249     0.381024      0.173511      0.10721\n",
            "min         4.30000     2.300000      1.000000      0.10000\n",
            "25%         4.80000     3.125000      1.400000      0.20000\n",
            "50%         5.00000     3.400000      1.500000      0.20000\n",
            "75%         5.20000     3.675000      1.575000      0.30000\n",
            "max         5.80000     4.400000      1.900000      0.60000\n"
          ]
        }
      ]
    },
    {
      "cell_type": "code",
      "source": [
        "irisVer = (iris['Species']== 'Iris-versicolor')"
      ],
      "metadata": {
        "id": "aS0TUGz6R83i"
      },
      "execution_count": 22,
      "outputs": []
    },
    {
      "cell_type": "code",
      "source": [
        "print('Iris-versicolor')\n",
        "print(iris[irisVer].describe())"
      ],
      "metadata": {
        "colab": {
          "base_uri": "https://localhost:8080/"
        },
        "id": "kIfukqoXR_B9",
        "outputId": "26596f73-a92e-4c7b-f609-f8e31045f7fa"
      },
      "execution_count": 23,
      "outputs": [
        {
          "output_type": "stream",
          "name": "stdout",
          "text": [
            "Iris-versicolor\n",
            "       Sepal_Length  Sepal_Width  Petal_Length  Petal_Width\n",
            "count     50.000000    50.000000     50.000000    50.000000\n",
            "mean       5.936000     2.770000      4.260000     1.326000\n",
            "std        0.516171     0.313798      0.469911     0.197753\n",
            "min        4.900000     2.000000      3.000000     1.000000\n",
            "25%        5.600000     2.525000      4.000000     1.200000\n",
            "50%        5.900000     2.800000      4.350000     1.300000\n",
            "75%        6.300000     3.000000      4.600000     1.500000\n",
            "max        7.000000     3.400000      5.100000     1.800000\n"
          ]
        }
      ]
    },
    {
      "cell_type": "code",
      "source": [
        "irisVir = (iris['Species']== 'Iris-virginica')"
      ],
      "metadata": {
        "id": "Cif29eRrSBER"
      },
      "execution_count": 24,
      "outputs": []
    },
    {
      "cell_type": "code",
      "source": [
        "print('Iris-virginica')\n",
        "print(iris[irisVir].describe())"
      ],
      "metadata": {
        "colab": {
          "base_uri": "https://localhost:8080/"
        },
        "id": "USyRaUG4SC_N",
        "outputId": "6efc07e1-651c-46ed-b951-fd3c2087f090"
      },
      "execution_count": 25,
      "outputs": [
        {
          "output_type": "stream",
          "name": "stdout",
          "text": [
            "Iris-virginica\n",
            "       Sepal_Length  Sepal_Width  Petal_Length  Petal_Width\n",
            "count      50.00000    50.000000     50.000000     50.00000\n",
            "mean        6.58800     2.974000      5.552000      2.02600\n",
            "std         0.63588     0.322497      0.551895      0.27465\n",
            "min         4.90000     2.200000      4.500000      1.40000\n",
            "25%         6.22500     2.800000      5.100000      1.80000\n",
            "50%         6.50000     3.000000      5.550000      2.00000\n",
            "75%         6.90000     3.175000      5.875000      2.30000\n",
            "max         7.90000     3.800000      6.900000      2.50000\n"
          ]
        }
      ]
    }
  ]
}